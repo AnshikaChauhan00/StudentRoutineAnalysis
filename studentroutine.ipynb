{
  "nbformat": 4,
  "nbformat_minor": 0,
  "metadata": {
    "colab": {
      "provenance": [],
      "authorship_tag": "ABX9TyPo/b5/SRvg6gkQCUlX3qw9",
      "include_colab_link": true
    },
    "kernelspec": {
      "name": "python3",
      "display_name": "Python 3"
    },
    "language_info": {
      "name": "python"
    },
    "widgets": {
      "application/vnd.jupyter.widget-state+json": {
        "927c9a09361149d29f23669bf54606b9": {
          "model_module": "@jupyter-widgets/controls",
          "model_name": "IntTextModel",
          "model_module_version": "1.5.0",
          "state": {
            "_dom_classes": [],
            "_model_module": "@jupyter-widgets/controls",
            "_model_module_version": "1.5.0",
            "_model_name": "IntTextModel",
            "_view_count": null,
            "_view_module": "@jupyter-widgets/controls",
            "_view_module_version": "1.5.0",
            "_view_name": "IntTextView",
            "continuous_update": false,
            "description": "Study Hours",
            "description_tooltip": null,
            "disabled": false,
            "layout": "IPY_MODEL_08d848edc6d744e08a0ba99795620eef",
            "step": 1,
            "style": "IPY_MODEL_15eb67ea45104368b2926e003f178672",
            "value": 3
          }
        },
        "08d848edc6d744e08a0ba99795620eef": {
          "model_module": "@jupyter-widgets/base",
          "model_name": "LayoutModel",
          "model_module_version": "1.2.0",
          "state": {
            "_model_module": "@jupyter-widgets/base",
            "_model_module_version": "1.2.0",
            "_model_name": "LayoutModel",
            "_view_count": null,
            "_view_module": "@jupyter-widgets/base",
            "_view_module_version": "1.2.0",
            "_view_name": "LayoutView",
            "align_content": null,
            "align_items": null,
            "align_self": null,
            "border": null,
            "bottom": null,
            "display": null,
            "flex": null,
            "flex_flow": null,
            "grid_area": null,
            "grid_auto_columns": null,
            "grid_auto_flow": null,
            "grid_auto_rows": null,
            "grid_column": null,
            "grid_gap": null,
            "grid_row": null,
            "grid_template_areas": null,
            "grid_template_columns": null,
            "grid_template_rows": null,
            "height": null,
            "justify_content": null,
            "justify_items": null,
            "left": null,
            "margin": null,
            "max_height": null,
            "max_width": null,
            "min_height": null,
            "min_width": null,
            "object_fit": null,
            "object_position": null,
            "order": null,
            "overflow": null,
            "overflow_x": null,
            "overflow_y": null,
            "padding": null,
            "right": null,
            "top": null,
            "visibility": null,
            "width": null
          }
        },
        "15eb67ea45104368b2926e003f178672": {
          "model_module": "@jupyter-widgets/controls",
          "model_name": "DescriptionStyleModel",
          "model_module_version": "1.5.0",
          "state": {
            "_model_module": "@jupyter-widgets/controls",
            "_model_module_version": "1.5.0",
            "_model_name": "DescriptionStyleModel",
            "_view_count": null,
            "_view_module": "@jupyter-widgets/base",
            "_view_module_version": "1.2.0",
            "_view_name": "StyleView",
            "description_width": ""
          }
        },
        "4f11451805714da88ca9b4fe0fe5d908": {
          "model_module": "@jupyter-widgets/controls",
          "model_name": "IntTextModel",
          "model_module_version": "1.5.0",
          "state": {
            "_dom_classes": [],
            "_model_module": "@jupyter-widgets/controls",
            "_model_module_version": "1.5.0",
            "_model_name": "IntTextModel",
            "_view_count": null,
            "_view_module": "@jupyter-widgets/controls",
            "_view_module_version": "1.5.0",
            "_view_name": "IntTextView",
            "continuous_update": false,
            "description": "Sleep Hours",
            "description_tooltip": null,
            "disabled": false,
            "layout": "IPY_MODEL_b251d29e8d8540f58bb82cac951e5730",
            "step": 1,
            "style": "IPY_MODEL_788572ef0b8549129b2e11ef9b2691b6",
            "value": 6
          }
        },
        "b251d29e8d8540f58bb82cac951e5730": {
          "model_module": "@jupyter-widgets/base",
          "model_name": "LayoutModel",
          "model_module_version": "1.2.0",
          "state": {
            "_model_module": "@jupyter-widgets/base",
            "_model_module_version": "1.2.0",
            "_model_name": "LayoutModel",
            "_view_count": null,
            "_view_module": "@jupyter-widgets/base",
            "_view_module_version": "1.2.0",
            "_view_name": "LayoutView",
            "align_content": null,
            "align_items": null,
            "align_self": null,
            "border": null,
            "bottom": null,
            "display": null,
            "flex": null,
            "flex_flow": null,
            "grid_area": null,
            "grid_auto_columns": null,
            "grid_auto_flow": null,
            "grid_auto_rows": null,
            "grid_column": null,
            "grid_gap": null,
            "grid_row": null,
            "grid_template_areas": null,
            "grid_template_columns": null,
            "grid_template_rows": null,
            "height": null,
            "justify_content": null,
            "justify_items": null,
            "left": null,
            "margin": null,
            "max_height": null,
            "max_width": null,
            "min_height": null,
            "min_width": null,
            "object_fit": null,
            "object_position": null,
            "order": null,
            "overflow": null,
            "overflow_x": null,
            "overflow_y": null,
            "padding": null,
            "right": null,
            "top": null,
            "visibility": null,
            "width": null
          }
        },
        "788572ef0b8549129b2e11ef9b2691b6": {
          "model_module": "@jupyter-widgets/controls",
          "model_name": "DescriptionStyleModel",
          "model_module_version": "1.5.0",
          "state": {
            "_model_module": "@jupyter-widgets/controls",
            "_model_module_version": "1.5.0",
            "_model_name": "DescriptionStyleModel",
            "_view_count": null,
            "_view_module": "@jupyter-widgets/base",
            "_view_module_version": "1.2.0",
            "_view_name": "StyleView",
            "description_width": ""
          }
        },
        "d2a78cd608214b42ae64e34631e7434c": {
          "model_module": "@jupyter-widgets/controls",
          "model_name": "IntTextModel",
          "model_module_version": "1.5.0",
          "state": {
            "_dom_classes": [],
            "_model_module": "@jupyter-widgets/controls",
            "_model_module_version": "1.5.0",
            "_model_name": "IntTextModel",
            "_view_count": null,
            "_view_module": "@jupyter-widgets/controls",
            "_view_module_version": "1.5.0",
            "_view_name": "IntTextView",
            "continuous_update": false,
            "description": "Exercise Hours",
            "description_tooltip": null,
            "disabled": false,
            "layout": "IPY_MODEL_b4c09a4d03f645929279999346f59f39",
            "step": 1,
            "style": "IPY_MODEL_f925d320218c47b68e40dbdc3b6328cc",
            "value": 2
          }
        },
        "b4c09a4d03f645929279999346f59f39": {
          "model_module": "@jupyter-widgets/base",
          "model_name": "LayoutModel",
          "model_module_version": "1.2.0",
          "state": {
            "_model_module": "@jupyter-widgets/base",
            "_model_module_version": "1.2.0",
            "_model_name": "LayoutModel",
            "_view_count": null,
            "_view_module": "@jupyter-widgets/base",
            "_view_module_version": "1.2.0",
            "_view_name": "LayoutView",
            "align_content": null,
            "align_items": null,
            "align_self": null,
            "border": null,
            "bottom": null,
            "display": null,
            "flex": null,
            "flex_flow": null,
            "grid_area": null,
            "grid_auto_columns": null,
            "grid_auto_flow": null,
            "grid_auto_rows": null,
            "grid_column": null,
            "grid_gap": null,
            "grid_row": null,
            "grid_template_areas": null,
            "grid_template_columns": null,
            "grid_template_rows": null,
            "height": null,
            "justify_content": null,
            "justify_items": null,
            "left": null,
            "margin": null,
            "max_height": null,
            "max_width": null,
            "min_height": null,
            "min_width": null,
            "object_fit": null,
            "object_position": null,
            "order": null,
            "overflow": null,
            "overflow_x": null,
            "overflow_y": null,
            "padding": null,
            "right": null,
            "top": null,
            "visibility": null,
            "width": null
          }
        },
        "f925d320218c47b68e40dbdc3b6328cc": {
          "model_module": "@jupyter-widgets/controls",
          "model_name": "DescriptionStyleModel",
          "model_module_version": "1.5.0",
          "state": {
            "_model_module": "@jupyter-widgets/controls",
            "_model_module_version": "1.5.0",
            "_model_name": "DescriptionStyleModel",
            "_view_count": null,
            "_view_module": "@jupyter-widgets/base",
            "_view_module_version": "1.2.0",
            "_view_name": "StyleView",
            "description_width": ""
          }
        },
        "aae1c848daa64a99aa9261de84d7def4": {
          "model_module": "@jupyter-widgets/controls",
          "model_name": "DropdownModel",
          "model_module_version": "1.5.0",
          "state": {
            "_dom_classes": [],
            "_model_module": "@jupyter-widgets/controls",
            "_model_module_version": "1.5.0",
            "_model_name": "DropdownModel",
            "_options_labels": [
              "0",
              "1"
            ],
            "_view_count": null,
            "_view_module": "@jupyter-widgets/controls",
            "_view_module_version": "1.5.0",
            "_view_name": "DropdownView",
            "description": "Focus Level",
            "description_tooltip": null,
            "disabled": false,
            "index": 1,
            "layout": "IPY_MODEL_95195d22ae8e4028b18cba822e970f90",
            "style": "IPY_MODEL_a96f82b23a5f4156b2caa70fc9828e46"
          }
        },
        "95195d22ae8e4028b18cba822e970f90": {
          "model_module": "@jupyter-widgets/base",
          "model_name": "LayoutModel",
          "model_module_version": "1.2.0",
          "state": {
            "_model_module": "@jupyter-widgets/base",
            "_model_module_version": "1.2.0",
            "_model_name": "LayoutModel",
            "_view_count": null,
            "_view_module": "@jupyter-widgets/base",
            "_view_module_version": "1.2.0",
            "_view_name": "LayoutView",
            "align_content": null,
            "align_items": null,
            "align_self": null,
            "border": null,
            "bottom": null,
            "display": null,
            "flex": null,
            "flex_flow": null,
            "grid_area": null,
            "grid_auto_columns": null,
            "grid_auto_flow": null,
            "grid_auto_rows": null,
            "grid_column": null,
            "grid_gap": null,
            "grid_row": null,
            "grid_template_areas": null,
            "grid_template_columns": null,
            "grid_template_rows": null,
            "height": null,
            "justify_content": null,
            "justify_items": null,
            "left": null,
            "margin": null,
            "max_height": null,
            "max_width": null,
            "min_height": null,
            "min_width": null,
            "object_fit": null,
            "object_position": null,
            "order": null,
            "overflow": null,
            "overflow_x": null,
            "overflow_y": null,
            "padding": null,
            "right": null,
            "top": null,
            "visibility": null,
            "width": null
          }
        },
        "a96f82b23a5f4156b2caa70fc9828e46": {
          "model_module": "@jupyter-widgets/controls",
          "model_name": "DescriptionStyleModel",
          "model_module_version": "1.5.0",
          "state": {
            "_model_module": "@jupyter-widgets/controls",
            "_model_module_version": "1.5.0",
            "_model_name": "DescriptionStyleModel",
            "_view_count": null,
            "_view_module": "@jupyter-widgets/base",
            "_view_module_version": "1.2.0",
            "_view_name": "StyleView",
            "description_width": ""
          }
        },
        "6d4105b5e5a4468a8e5d8d951891573c": {
          "model_module": "@jupyter-widgets/controls",
          "model_name": "ButtonModel",
          "model_module_version": "1.5.0",
          "state": {
            "_dom_classes": [],
            "_model_module": "@jupyter-widgets/controls",
            "_model_module_version": "1.5.0",
            "_model_name": "ButtonModel",
            "_view_count": null,
            "_view_module": "@jupyter-widgets/controls",
            "_view_module_version": "1.5.0",
            "_view_name": "ButtonView",
            "button_style": "",
            "description": "Get Suggested Routine",
            "disabled": false,
            "icon": "",
            "layout": "IPY_MODEL_45ac658565dc46448d51d27f7d758fe2",
            "style": "IPY_MODEL_c662b09b437e43b3a54271b1ecac645f",
            "tooltip": ""
          }
        },
        "45ac658565dc46448d51d27f7d758fe2": {
          "model_module": "@jupyter-widgets/base",
          "model_name": "LayoutModel",
          "model_module_version": "1.2.0",
          "state": {
            "_model_module": "@jupyter-widgets/base",
            "_model_module_version": "1.2.0",
            "_model_name": "LayoutModel",
            "_view_count": null,
            "_view_module": "@jupyter-widgets/base",
            "_view_module_version": "1.2.0",
            "_view_name": "LayoutView",
            "align_content": null,
            "align_items": null,
            "align_self": null,
            "border": null,
            "bottom": null,
            "display": null,
            "flex": null,
            "flex_flow": null,
            "grid_area": null,
            "grid_auto_columns": null,
            "grid_auto_flow": null,
            "grid_auto_rows": null,
            "grid_column": null,
            "grid_gap": null,
            "grid_row": null,
            "grid_template_areas": null,
            "grid_template_columns": null,
            "grid_template_rows": null,
            "height": null,
            "justify_content": null,
            "justify_items": null,
            "left": null,
            "margin": null,
            "max_height": null,
            "max_width": null,
            "min_height": null,
            "min_width": null,
            "object_fit": null,
            "object_position": null,
            "order": null,
            "overflow": null,
            "overflow_x": null,
            "overflow_y": null,
            "padding": null,
            "right": null,
            "top": null,
            "visibility": null,
            "width": null
          }
        },
        "c662b09b437e43b3a54271b1ecac645f": {
          "model_module": "@jupyter-widgets/controls",
          "model_name": "ButtonStyleModel",
          "model_module_version": "1.5.0",
          "state": {
            "_model_module": "@jupyter-widgets/controls",
            "_model_module_version": "1.5.0",
            "_model_name": "ButtonStyleModel",
            "_view_count": null,
            "_view_module": "@jupyter-widgets/base",
            "_view_module_version": "1.2.0",
            "_view_name": "StyleView",
            "button_color": null,
            "font_weight": ""
          }
        }
      }
    }
  },
  "cells": [
    {
      "cell_type": "markdown",
      "metadata": {
        "id": "view-in-github",
        "colab_type": "text"
      },
      "source": [
        "<a href=\"https://colab.research.google.com/github/AnshikaChauhan00/StudentRoutineAnalysis/blob/main/studentroutine.ipynb\" target=\"_parent\"><img src=\"https://colab.research.google.com/assets/colab-badge.svg\" alt=\"Open In Colab\"/></a>"
      ]
    },
    {
      "cell_type": "code",
      "execution_count": 3,
      "metadata": {
        "colab": {
          "base_uri": "https://localhost:8080/"
        },
        "id": "tra3AH53acqn",
        "outputId": "51efc5c7-23fd-444c-c160-72e253e20937"
      },
      "outputs": [
        {
          "output_type": "stream",
          "name": "stdout",
          "text": [
            "   Age  Year Primary_Area_of_Study  Study_Hours  Exercise_Hours  Sleep_Hours  \\\n",
            "0   18     1               Science            3               1            7   \n",
            "1   19     2                  Arts            4               2            8   \n",
            "2   20     3           Engineering            5               1            6   \n",
            "3   21     4              Commerce            6               1            7   \n",
            "4   18     1               Science            2               1            8   \n",
            "\n",
            "   Class_Hours  Other_Hours Difficulty_in_Routine Time_Management_Challenge  \\\n",
            "0            4            5                Medium                       Yes   \n",
            "1            3            3                   Low                        No   \n",
            "2            4            4                  High                       Yes   \n",
            "3            3            3                  High                       Yes   \n",
            "4            5            4                Medium                        No   \n",
            "\n",
            "   Total_Hours  \n",
            "0           20  \n",
            "1           20  \n",
            "2           20  \n",
            "3           20  \n",
            "4           20  \n"
          ]
        }
      ],
      "source": [
        "import pandas as pd\n",
        "# Load the CSV file\n",
        "file_path = \"studentroutine.csv\"  # Replace with the actual file path\n",
        "df = pd.read_csv(file_path)\n",
        "# Display the first few rows to verify data loading\n",
        "print(df.head())\n"
      ]
    },
    {
      "cell_type": "code",
      "source": [
        "# Check for missing values\n",
        "missing_values = df.isnull().sum()\n",
        "print(\"Missing Values:\\n\", missing_values)"
      ],
      "metadata": {
        "colab": {
          "base_uri": "https://localhost:8080/"
        },
        "id": "TqX-NtZzbgPx",
        "outputId": "c14a1f4e-4140-4f02-911e-a94b0850dc0c"
      },
      "execution_count": 4,
      "outputs": [
        {
          "output_type": "stream",
          "name": "stdout",
          "text": [
            "Missing Values:\n",
            " Age                          0\n",
            "Year                         0\n",
            "Primary_Area_of_Study        0\n",
            "Study_Hours                  0\n",
            "Exercise_Hours               0\n",
            "Sleep_Hours                  0\n",
            "Class_Hours                  0\n",
            "Other_Hours                  0\n",
            "Difficulty_in_Routine        0\n",
            "Time_Management_Challenge    0\n",
            "Total_Hours                  0\n",
            "dtype: int64\n"
          ]
        }
      ]
    },
    {
      "cell_type": "code",
      "source": [
        "# Find the most frequent value (mode) in 'Time_Management_Challenge'\n",
        "mode_value = df['Time_Management_Challenge'].mode()[0]\n",
        "\n",
        "# Fill NaN values with the mode (most frequent value)\n",
        "df['Time_Management_Challenge'] = df['Time_Management_Challenge'].fillna(mode_value)\n",
        "\n",
        "# Verify the result\n",
        "print(df[['Time_Management_Challenge']].head())"
      ],
      "metadata": {
        "colab": {
          "base_uri": "https://localhost:8080/"
        },
        "id": "v-dom6QkblKZ",
        "outputId": "043db4c5-657c-4826-a4c8-d52c62bcaaf8"
      },
      "execution_count": 5,
      "outputs": [
        {
          "output_type": "stream",
          "name": "stdout",
          "text": [
            "  Time_Management_Challenge\n",
            "0                       Yes\n",
            "1                        No\n",
            "2                       Yes\n",
            "3                       Yes\n",
            "4                        No\n"
          ]
        }
      ]
    },
    {
      "cell_type": "code",
      "source": [
        "# Check for missing values\n",
        "missing_values = df.isnull().sum()\n",
        "print(\"Missing Values:\\n\", missing_values)"
      ],
      "metadata": {
        "colab": {
          "base_uri": "https://localhost:8080/"
        },
        "id": "kDHDLoGGbo_C",
        "outputId": "a692d18b-6016-43e3-f3f9-da288a99b76c"
      },
      "execution_count": 6,
      "outputs": [
        {
          "output_type": "stream",
          "name": "stdout",
          "text": [
            "Missing Values:\n",
            " Age                          0\n",
            "Year                         0\n",
            "Primary_Area_of_Study        0\n",
            "Study_Hours                  0\n",
            "Exercise_Hours               0\n",
            "Sleep_Hours                  0\n",
            "Class_Hours                  0\n",
            "Other_Hours                  0\n",
            "Difficulty_in_Routine        0\n",
            "Time_Management_Challenge    0\n",
            "Total_Hours                  0\n",
            "dtype: int64\n"
          ]
        }
      ]
    },
    {
      "cell_type": "code",
      "source": [
        " #Display summary statistics\n",
        "summary_statistics = df.describe()\n",
        "print(\"\\nSummary Statistics:\\n\", summary_statistics)"
      ],
      "metadata": {
        "colab": {
          "base_uri": "https://localhost:8080/"
        },
        "id": "IB-bRcrJbs4D",
        "outputId": "fd406c1c-611b-4bd7-fe1f-3c78b495eb8c"
      },
      "execution_count": 7,
      "outputs": [
        {
          "output_type": "stream",
          "name": "stdout",
          "text": [
            "\n",
            "Summary Statistics:\n",
            "              Age       Year  Study_Hours  Exercise_Hours  Sleep_Hours  \\\n",
            "count  79.000000  79.000000    79.000000       79.000000    79.000000   \n",
            "mean   20.227848   2.481013     4.265823        1.139241     7.037975   \n",
            "std     1.694254   1.119303     1.184395        0.693083     0.791672   \n",
            "min    18.000000   1.000000     2.000000        0.000000     6.000000   \n",
            "25%    19.000000   1.500000     3.000000        1.000000     6.000000   \n",
            "50%    20.000000   2.000000     4.000000        1.000000     7.000000   \n",
            "75%    22.000000   3.000000     5.000000        2.000000     8.000000   \n",
            "max    23.000000   4.000000     6.000000        2.000000     8.000000   \n",
            "\n",
            "       Class_Hours  Other_Hours  Total_Hours  \n",
            "count    79.000000    79.000000         79.0  \n",
            "mean      3.468354     4.101266         20.0  \n",
            "std       0.958571     1.138993          0.0  \n",
            "min       2.000000     2.000000         20.0  \n",
            "25%       3.000000     3.000000         20.0  \n",
            "50%       3.000000     4.000000         20.0  \n",
            "75%       4.000000     5.000000         20.0  \n",
            "max       5.000000     7.000000         20.0  \n"
          ]
        }
      ]
    },
    {
      "cell_type": "code",
      "source": [
        "average_study_hours = df['Study_Hours'].mean()\n",
        "df['Focus_Level'] = df['Study_Hours'].apply(lambda x: 1 if x > average_study_hours else 0)\n",
        "print(df[['Study_Hours', 'Focus_Level']].head())"
      ],
      "metadata": {
        "colab": {
          "base_uri": "https://localhost:8080/"
        },
        "id": "6WzZ4ToYb0qS",
        "outputId": "5005704b-ef3b-485e-e446-7b13dc2a2e2e"
      },
      "execution_count": 8,
      "outputs": [
        {
          "output_type": "stream",
          "name": "stdout",
          "text": [
            "   Study_Hours  Focus_Level\n",
            "0            3            0\n",
            "1            4            0\n",
            "2            5            1\n",
            "3            6            1\n",
            "4            2            0\n"
          ]
        }
      ]
    },
    {
      "cell_type": "code",
      "source": [
        "df['Activity_Balance'] = (df['Study_Hours'] + df['Class_Hours']) / (df['Exercise_Hours']  + 0.01)\n",
        "print(df[['Study_Hours', 'Class_Hours', 'Exercise_Hours', 'Activity_Balance']].head())"
      ],
      "metadata": {
        "colab": {
          "base_uri": "https://localhost:8080/"
        },
        "id": "11sxaN2Cb3hH",
        "outputId": "acd921b0-48b2-4d8c-be43-461250961565"
      },
      "execution_count": 9,
      "outputs": [
        {
          "output_type": "stream",
          "name": "stdout",
          "text": [
            "   Study_Hours  Class_Hours  Exercise_Hours  Activity_Balance\n",
            "0            3            4               1          6.930693\n",
            "1            4            3               2          3.482587\n",
            "2            5            4               1          8.910891\n",
            "3            6            3               1          8.910891\n",
            "4            2            5               1          6.930693\n"
          ]
        }
      ]
    },
    {
      "cell_type": "code",
      "source": [
        "df['Year'] = df['Year'].map({'1st': 1, '2nd': 2, '3rd': 3, '4th': 4})\n",
        "df['Primary_Area_of_Study'] = df['Primary_Area_of_Study'].astype('category').cat.codes\n",
        "df['Difficulty_in_Routine'] = df['Difficulty_in_Routine'].map({'Low': 0, 'Moderate': 1, 'High': 2})\n",
        "df['Time_Management_Challenge'] = df['Time_Management_Challenge'].map({'None': 0, 'Somewhat': 1, 'Significant': 2})\n",
        "print(df[['Year', 'Primary_Area_of_Study', 'Difficulty_in_Routine', 'Time_Management_Challenge']].head())"
      ],
      "metadata": {
        "colab": {
          "base_uri": "https://localhost:8080/"
        },
        "id": "gbuA70kicI4l",
        "outputId": "3a78101b-cfbf-43ad-ec00-71efef39cd84"
      },
      "execution_count": 10,
      "outputs": [
        {
          "output_type": "stream",
          "name": "stdout",
          "text": [
            "   Year  Primary_Area_of_Study  Difficulty_in_Routine  \\\n",
            "0   NaN                      3                    NaN   \n",
            "1   NaN                      0                    0.0   \n",
            "2   NaN                      2                    2.0   \n",
            "3   NaN                      1                    2.0   \n",
            "4   NaN                      3                    NaN   \n",
            "\n",
            "   Time_Management_Challenge  \n",
            "0                        NaN  \n",
            "1                        NaN  \n",
            "2                        NaN  \n",
            "3                        NaN  \n",
            "4                        NaN  \n"
          ]
        }
      ]
    },
    {
      "cell_type": "code",
      "source": [
        "def suggest_routine(student_data):\n",
        "    # Get current day's study hours, sleep, exercise, and focus level\n",
        "    study_hours = student_data['Study_Hours']\n",
        "    sleep_hours = student_data['Sleep_Hours']\n",
        "    exercise_hours = student_data['Exercise_Hours']\n",
        "    focus_level = student_data['Focus_Level']  # 1 = High, 0 = Low\n",
        "\n",
        "    # Start with a base suggestion\n",
        "    suggestion = {\n",
        "        'Study_Hours': 6,  # Default recommendation\n",
        "        'Exercise_Hours': 1,  # Default recommendation\n",
        "        'Sleep_Hours': 8,  # Default recommendation\n",
        "    }\n",
        "\n",
        "    # Adjust based on the current day's activity\n",
        "    if study_hours > 6:  # If the student studied more than 6 hours\n",
        "        suggestion['Study_Hours'] = 4  # Suggest less study time\n",
        "\n",
        "    if sleep_hours < 7:  # If the student slept less than 7 hours\n",
        "        suggestion['Sleep_Hours'] = 9  # Suggest more sleep time\n",
        "\n",
        "    if exercise_hours < 1:  # If the student exercised less than 1 hour\n",
        "        suggestion['Exercise_Hours'] = 2  # Suggest more exercise time\n",
        "\n",
        "    if focus_level == 0:  # If focus level was low today\n",
        "        suggestion['Study_Hours'] += 1  # Suggest more focused study time next day\n",
        "\n",
        "    return suggestion\n"
      ],
      "metadata": {
        "id": "Fg8K8uT0cM99"
      },
      "execution_count": 11,
      "outputs": []
    },
    {
      "cell_type": "code",
      "source": [
        "import ipywidgets as widgets\n",
        "from IPython.display import display\n",
        "\n",
        "def suggest_routine(study_hours, sleep_hours, exercise_hours, focus_level):\n",
        "    # Placeholder logic for suggestion\n",
        "    suggestion = {\n",
        "        'Study Hours': 6,  # Default recommendation\n",
        "        'Exercise Hours': 1,  # Default recommendation\n",
        "        'Sleep Hours': 8,  # Default recommendation\n",
        "    }\n",
        "\n",
        "    # Adjusting based on the current day's activity\n",
        "    if study_hours > 6:  # If the student studied more than 6 hours\n",
        "        suggestion['Study Hours'] = 4  # Suggest less study time\n",
        "    elif study_hours < 5:  # If the student studied less than 5 hours\n",
        "        suggestion['Study Hours'] = 7  # Suggest more study time\n",
        "\n",
        "    if sleep_hours < 7:  # If the student slept less than 7 hours\n",
        "        suggestion['Sleep Hours'] = 9  # Suggest more sleep time\n",
        "    elif sleep_hours > 9:  # If the student slept more than 9 hours\n",
        "        suggestion['Sleep Hours'] = 8  # Suggest less sleep time\n",
        "\n",
        "    if exercise_hours < 1:  # If the student exercised less than 1 hour\n",
        "        suggestion['Exercise Hours'] = 2  # Suggest more exercise time\n",
        "    elif exercise_hours > 2:  # If the student exercised more than 2 hours\n",
        "        suggestion['Exercise Hours'] = 1  # Suggest less exercise time\n",
        "\n",
        "    # Adjust study time based on focus level\n",
        "    if focus_level == 0:  # If focus level was low today\n",
        "        suggestion['Study Hours'] += 1  # Suggest more focused study time next day\n",
        "\n",
        "    return suggestion\n",
        "\n",
        "def show_routine(study_hours, sleep_hours, exercise_hours, focus_level):\n",
        "    suggested_routine = suggest_routine(study_hours, sleep_hours, exercise_hours, focus_level)\n",
        "    # Output the suggested routine\n",
        "    print(f\"Suggested Routine:\\nStudy Hours: {suggested_routine['Study Hours']}\\n\"\n",
        "          f\"Exercise Hours: {suggested_routine['Exercise Hours']}\\n\"\n",
        "          f\"Sleep Hours: {suggested_routine['Sleep Hours']}\")\n",
        "\n",
        "# Creating widgets\n",
        "study_hour_input = widgets.IntText(description=\"Study Hours\", value=6)\n",
        "sleep_hour_input = widgets.IntText(description=\"Sleep Hours\", value=8)\n",
        "exercise_hour_input = widgets.IntText(description=\"Exercise Hours\", value=1)\n",
        "focus_level_input = widgets.Dropdown(description=\"Focus Level\", options=[0, 1], value=1)\n",
        "\n",
        "# Button to trigger suggestion\n",
        "button = widgets.Button(description=\"Get Suggested Routine\")\n",
        "button.on_click(lambda x: show_routine(study_hour_input.value, sleep_hour_input.value,\n",
        "                                       exercise_hour_input.value, focus_level_input.value))\n",
        "\n",
        "# Display the widgets\n",
        "display(study_hour_input, sleep_hour_input, exercise_hour_input, focus_level_input, button)\n"
      ],
      "metadata": {
        "colab": {
          "base_uri": "https://localhost:8080/",
          "height": 310,
          "referenced_widgets": [
            "927c9a09361149d29f23669bf54606b9",
            "08d848edc6d744e08a0ba99795620eef",
            "15eb67ea45104368b2926e003f178672",
            "4f11451805714da88ca9b4fe0fe5d908",
            "b251d29e8d8540f58bb82cac951e5730",
            "788572ef0b8549129b2e11ef9b2691b6",
            "d2a78cd608214b42ae64e34631e7434c",
            "b4c09a4d03f645929279999346f59f39",
            "f925d320218c47b68e40dbdc3b6328cc",
            "aae1c848daa64a99aa9261de84d7def4",
            "95195d22ae8e4028b18cba822e970f90",
            "a96f82b23a5f4156b2caa70fc9828e46",
            "6d4105b5e5a4468a8e5d8d951891573c",
            "45ac658565dc46448d51d27f7d758fe2",
            "c662b09b437e43b3a54271b1ecac645f"
          ]
        },
        "id": "fqyan-wRcR8F",
        "outputId": "59fa1c40-e968-4733-bd7b-a71f8e232407"
      },
      "execution_count": 12,
      "outputs": [
        {
          "output_type": "display_data",
          "data": {
            "text/plain": [
              "IntText(value=6, description='Study Hours')"
            ],
            "application/vnd.jupyter.widget-view+json": {
              "version_major": 2,
              "version_minor": 0,
              "model_id": "927c9a09361149d29f23669bf54606b9"
            }
          },
          "metadata": {}
        },
        {
          "output_type": "display_data",
          "data": {
            "text/plain": [
              "IntText(value=8, description='Sleep Hours')"
            ],
            "application/vnd.jupyter.widget-view+json": {
              "version_major": 2,
              "version_minor": 0,
              "model_id": "4f11451805714da88ca9b4fe0fe5d908"
            }
          },
          "metadata": {}
        },
        {
          "output_type": "display_data",
          "data": {
            "text/plain": [
              "IntText(value=1, description='Exercise Hours')"
            ],
            "application/vnd.jupyter.widget-view+json": {
              "version_major": 2,
              "version_minor": 0,
              "model_id": "d2a78cd608214b42ae64e34631e7434c"
            }
          },
          "metadata": {}
        },
        {
          "output_type": "display_data",
          "data": {
            "text/plain": [
              "Dropdown(description='Focus Level', index=1, options=(0, 1), value=1)"
            ],
            "application/vnd.jupyter.widget-view+json": {
              "version_major": 2,
              "version_minor": 0,
              "model_id": "aae1c848daa64a99aa9261de84d7def4"
            }
          },
          "metadata": {}
        },
        {
          "output_type": "display_data",
          "data": {
            "text/plain": [
              "Button(description='Get Suggested Routine', style=ButtonStyle())"
            ],
            "application/vnd.jupyter.widget-view+json": {
              "version_major": 2,
              "version_minor": 0,
              "model_id": "6d4105b5e5a4468a8e5d8d951891573c"
            }
          },
          "metadata": {}
        },
        {
          "output_type": "stream",
          "name": "stdout",
          "text": [
            "Suggested Routine:\n",
            "Study Hours: 6\n",
            "Exercise Hours: 1\n",
            "Sleep Hours: 8\n",
            "Suggested Routine:\n",
            "Study Hours: 7\n",
            "Exercise Hours: 1\n",
            "Sleep Hours: 9\n"
          ]
        }
      ]
    },
    {
      "cell_type": "code",
      "source": [
        "import pandas as pd\n",
        "from mlxtend.frequent_patterns import apriori, association_rules\n",
        "\n",
        "# Simulating some example data for demonstration\n",
        "data = {\n",
        "    'Study_Hours': [6, 7, 8, 5, 4, 3, 6, 7, 8, 6],\n",
        "    'Exercise_Hours': [1, 2, 0, 1, 2, 0, 1, 2, 1, 2],\n",
        "    'Sleep_Hours': [8, 7, 6, 8, 9, 8, 7, 6, 6, 7]\n",
        "}\n",
        "df = pd.DataFrame(data)\n",
        "\n",
        "# Binarize the continuous variables\n",
        "df['Study_Hours'] = df['Study_Hours'].apply(lambda x: 1 if x >= 6 else 0)  # 1 for High Study Hours, 0 for Low\n",
        "df['Exercise_Hours'] = df['Exercise_Hours'].apply(lambda x: 1 if x >= 1 else 0)  # 1 for Exercise, 0 for None\n",
        "df['Sleep_Hours'] = df['Sleep_Hours'].apply(lambda x: 1 if x >= 7 else 0)  # 1 for Good Sleep, 0 for Low Sleep\n",
        "\n",
        "# Generate frequent itemsets\n",
        "frequent_itemsets = apriori(df, min_support=0.2, use_colnames=True)\n",
        "\n",
        "# Generate association rules\n",
        "rules = association_rules(frequent_itemsets, metric=\"lift\", min_threshold=1)\n",
        "\n",
        "# Display the rules\n",
        "print(rules)\n"
      ],
      "metadata": {
        "colab": {
          "base_uri": "https://localhost:8080/"
        },
        "id": "TRp0HB73cZrG",
        "outputId": "7f3af1ef-8464-4caa-8d22-94ab40cb98e1"
      },
      "execution_count": 13,
      "outputs": [
        {
          "output_type": "stream",
          "name": "stdout",
          "text": [
            "                  antecedents                 consequents  antecedent support  \\\n",
            "0               (Study_Hours)            (Exercise_Hours)                 0.7   \n",
            "1            (Exercise_Hours)               (Study_Hours)                 0.8   \n",
            "2            (Exercise_Hours)               (Sleep_Hours)                 0.8   \n",
            "3               (Sleep_Hours)            (Exercise_Hours)                 0.7   \n",
            "4  (Study_Hours, Sleep_Hours)            (Exercise_Hours)                 0.4   \n",
            "5            (Exercise_Hours)  (Study_Hours, Sleep_Hours)                 0.8   \n",
            "\n",
            "   consequent support  support  confidence      lift  leverage  conviction  \\\n",
            "0                 0.8      0.6    0.857143  1.071429      0.04         1.4   \n",
            "1                 0.7      0.6    0.750000  1.071429      0.04         1.2   \n",
            "2                 0.7      0.6    0.750000  1.071429      0.04         1.2   \n",
            "3                 0.8      0.6    0.857143  1.071429      0.04         1.4   \n",
            "4                 0.8      0.4    1.000000  1.250000      0.08         inf   \n",
            "5                 0.4      0.4    0.500000  1.250000      0.08         1.2   \n",
            "\n",
            "   zhangs_metric  \n",
            "0       0.222222  \n",
            "1       0.333333  \n",
            "2       0.333333  \n",
            "3       0.222222  \n",
            "4       0.333333  \n",
            "5       1.000000  \n"
          ]
        },
        {
          "output_type": "stream",
          "name": "stderr",
          "text": [
            "/usr/local/lib/python3.10/dist-packages/mlxtend/frequent_patterns/fpcommon.py:109: DeprecationWarning: DataFrames with non-bool types result in worse computationalperformance and their support might be discontinued in the future.Please use a DataFrame with bool type\n",
            "  warnings.warn(\n"
          ]
        }
      ]
    }
  ]
}